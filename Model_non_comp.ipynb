{
 "cells": [
  {
   "cell_type": "code",
   "execution_count": 1,
   "metadata": {
    "id": "2eWYmg9X1CTb"
   },
   "outputs": [],
   "source": [
    "import torch\n",
    "import torch.nn as nn \n",
    "from torchvision import transforms, utils, models\n",
    "from torch.nn.utils.rnn import pack_padded_sequence"
   ]
  },
  {
   "cell_type": "code",
   "execution_count": 2,
   "metadata": {
    "id": "5hRMI5K01KTx"
   },
   "outputs": [
    {
     "data": {
      "text/plain": [
       "'torch.nn.Conv2d(in_channels, out_channels, kernel_size, stride=1, padding=0,)\\n\\nParameters\\n\\nin_channels (int) – Number of channels in the input image\\nout_channels (int) – Number of channels produced by the convolution\\nkernel_size (int or tuple) – Size of the convolving kernel\\nstride (int or tuple, optional) – Stride of the convolution. (Default: 1)\\npadding (int or tuple, optional) – Zero-padding added to both sides of the input (Default: 0)'"
      ]
     },
     "execution_count": 2,
     "metadata": {},
     "output_type": "execute_result"
    }
   ],
   "source": [
    "'''torch.nn.Conv2d(in_channels, out_channels, kernel_size, stride=1, padding=0,)\n",
    "\n",
    "Parameters\n",
    "\n",
    "in_channels (int) – Number of channels in the input image\n",
    "out_channels (int) – Number of channels produced by the convolution\n",
    "kernel_size (int or tuple) – Size of the convolving kernel\n",
    "stride (int or tuple, optional) – Stride of the convolution. (Default: 1)\n",
    "padding (int or tuple, optional) – Zero-padding added to both sides of the input (Default: 0)'''\n"
   ]
  },
  {
   "cell_type": "code",
   "execution_count": 19,
   "metadata": {
    "colab": {
     "base_uri": "https://localhost:8080/"
    },
    "id": "Xn4ZA5xd90cV",
    "outputId": "d82755b2-57ad-4c47-f4a7-c17d50365485"
   },
   "outputs": [],
   "source": [
    "# vgg19 = models.vgg19()"
   ]
  },
  {
   "cell_type": "code",
   "execution_count": 18,
   "metadata": {
    "tags": []
   },
   "outputs": [],
   "source": [
    "# print(vgg19)"
   ]
  },
  {
   "cell_type": "code",
   "execution_count": 5,
   "metadata": {
    "id": "pJe5y4gu98dy"
   },
   "outputs": [],
   "source": [
    "class VGG19(nn.Module):\n",
    "    def __init__(self, embed_size):\n",
    "        super(VGG19, self).__init__()\n",
    "        self.embed_size = embed_size\n",
    "        self.model = nn.Sequential(nn.Conv2d(3, 64, kernel_size=3, padding=1),\n",
    "                                   nn.ReLU(inplace = True),\n",
    "                                   nn.Conv2d(64, 64, kernel_size=3, padding=1),\n",
    "                                   nn.ReLU(inplace = True),\n",
    "                                   nn.MaxPool2d(kernel_size=2, stride=2),\n",
    "                                   nn.Conv2d(64, 128, kernel_size=3, padding=1),\n",
    "                                   nn.ReLU(inplace = True),\n",
    "                                   nn.Conv2d(128, 128, kernel_size=2, padding=1),\n",
    "                                   nn.ReLU(inplace = True),\n",
    "                                   nn.MaxPool2d(kernel_size=2, stride=2),\n",
    "                                   nn.Conv2d(128, 256, kernel_size=3, padding=1),\n",
    "                                   nn.ReLU(inplace = True),\n",
    "                                   nn.Conv2d(256, 256, kernel_size=3, padding=1),\n",
    "                                   nn.ReLU(inplace = True),\n",
    "                                   nn.Conv2d(256, 256, kernel_size=3, padding=1),\n",
    "                                   nn.ReLU(inplace = True),\n",
    "                                   nn.Conv2d(256, 256, kernel_size=3, padding=1),\n",
    "                                   nn.ReLU(inplace = True),\n",
    "                                   nn.MaxPool2d(kernel_size=2, stride=2),\n",
    "                                   nn.Conv2d(256, 512, kernel_size=3, padding=1),\n",
    "                                   nn.ReLU(inplace = True),\n",
    "                                   nn.Conv2d(512, 512, kernel_size=3, padding=1),\n",
    "                                   nn.ReLU(inplace = True),\n",
    "                                   nn.Conv2d(512, 512, kernel_size=3, padding=1),\n",
    "                                   nn.ReLU(inplace = True),\n",
    "                                   nn.Conv2d(512, 512, kernel_size=3, padding=1),\n",
    "                                   nn.ReLU(inplace = True),\n",
    "                                   nn.MaxPool2d(kernel_size=2, stride=2),\n",
    "                                   nn.Conv2d(512, 512, kernel_size=3, padding=1),\n",
    "                                   nn.ReLU(inplace = True),\n",
    "                                   nn.Conv2d(512, 512, kernel_size=3, padding=1),\n",
    "                                   nn.ReLU(inplace = True),\n",
    "                                   nn.Conv2d(512, 512, kernel_size=3, padding=1),\n",
    "                                   nn.ReLU(inplace = True),\n",
    "                                   nn.Conv2d(512, 512, kernel_size=3, padding=1),\n",
    "                                   nn.ReLU(inplace = True),\n",
    "                                   nn.MaxPool2d(kernel_size=2, stride=2))\n",
    "        self.avgpool = nn.AdaptiveAvgPool2d(output_size=(7,7))\n",
    "        self.classifier = nn.Sequential(                  \n",
    "           nn.Linear(in_features=25088, out_features=4096),\n",
    "           nn.ReLU(inplace=True),\n",
    "           nn.Dropout(p=0.5, inplace=False),\n",
    "           nn.Linear(in_features=4096, out_features=4096),\n",
    "           nn.ReLU(inplace=True),\n",
    "           nn.Linear(in_features=4096, out_features=self.embed_size),\n",
    "           nn.ReLU(inplace=True),\n",
    "             )\n",
    "    def forward(self,image):\n",
    "        features = self.model(image)\n",
    "        # to reshape the tensor features.\n",
    "        features = self.avgpool(features)\n",
    "        features = features.view(features.shape[0],-1)\n",
    "        \n",
    "        features = self.classifier(features)\n",
    "\n",
    "        return features   "
   ]
  },
  {
   "cell_type": "code",
   "execution_count": 6,
   "metadata": {
    "colab": {
     "base_uri": "https://localhost:8080/",
     "height": 87,
     "referenced_widgets": [
      "bd9261979bf04310bd4ec9f70cc9b258",
      "1f10240e376943b8b6a1d4b87ec5a471",
      "a59f2f1d5b044b06a4b867ccb10fd939",
      "90392bbe0c4d43778247f075baf73b80",
      "a15ce32e0bcc400d9966e0d6e48e9580",
      "57eea5042f394a18b9ff96854e8928b9",
      "6e59c2cbfc6b4735a23094bc6339511f",
      "bf8748ef5e884c288d588b7f5df208d8",
      "2ac0de3faa1a45dd8b176fbe1f0014c2",
      "4063df1caa9e45689ada6a8ba0462c6c",
      "a827d4f69c89424299d49799830bcd1d"
     ]
    },
    "id": "j-BdAu9_Uy15",
    "outputId": "79525516-7c67-4bef-d77f-5d3f6bb310e3"
   },
   "outputs": [],
   "source": [
    "class Custom_RNN(nn.Module):\n",
    "    def __init__(self, embed_size, hidden_size, vocab_size, num_layers):\n",
    "        super(Custom_RNN, self).__init__()\n",
    "        self.embed = nn.Embedding(vocab_size, embed_size)\n",
    "        self.lstm = nn.LSTM(embed_size, hidden_size, num_layers, batch_first=True)\n",
    "        self.linear = nn.Linear(hidden_size, vocab_size)\n",
    "        self.dropout = nn.Dropout(0.5)\n",
    "        self.l_softmax = nn.LogSoftmax((hidden_size,vocab_size))\n",
    "\n",
    "    def forward(self, features, captions, lengths):\n",
    "        embeddings = self.embed(captions)\n",
    "        print('emb',embeddings.shape)\n",
    "        inp = embeddings\n",
    "        embeddings = torch.cat((features.unsqueeze(1), embeddings), dim=1)\n",
    "        # print('emmb cat:', embeddings.shape)\n",
    "        embeddings = pack_padded_sequence(embeddings, lengths, batch_first=True, enforce_sorted= False)\n",
    "        hiddens, _ = self.lstm(embeddings)\n",
    "        # h_0 = features.unsqueeze(0).float()\n",
    "        # c_0 = torch.rand(1,features.shape[-2],features.shape[-1])\n",
    "        # print(h_0.shape)\n",
    "        # print(c_0.shape)\n",
    "        # hiddens, _ = self.lstm(inp, (h_0, c_0))\n",
    "        # hiddens = torch.tensor(hiddens)\n",
    "        # print('h\\'s sape',hiddens[0].shape)\n",
    "        # print('h\\'s sape',hiddens[1].shape)\n",
    "        # print('h\\'s sape',hiddens[2].shape)\n",
    "        # print('h\\'s sape',hiddens[3].shape)\n",
    "        # print('h\\'s sape',len(hiddens))\n",
    "        outputs = self.linear(hiddens[0])\n",
    "        # outputs = self.l_softmax(outputs)\n",
    "        return outputs"
   ]
  },
  {
   "cell_type": "code",
   "execution_count": 7,
   "metadata": {
    "colab": {
     "base_uri": "https://localhost:8080/"
    },
    "id": "pusoHfJ7byiv",
    "outputId": "6f5156fd-f90b-4105-b66d-f3faed5eecc6"
   },
   "outputs": [],
   "source": [
    "class RCNN(nn.Module):\n",
    "    def __init__(self, embed_size, hidden_size, vocab_size, num_layers):\n",
    "        super(RCNN, self).__init__()\n",
    "        self.encoderCNN = VGG19(embed_size)\n",
    "        self.decoderRNN = Custom_RNN(embed_size, hidden_size, vocab_size, num_layers)\n",
    "        # for params in self.encoderCNN.parameters():\n",
    "        #     params.require_grad = False\n",
    "        # for params in self.encoderCNN.cnn.classifier[6].parameters():\n",
    "        #     params.require_grad = True\n",
    "\n",
    "    def forward(self, images, captions, lenghts):\n",
    "        features = self.encoderCNN(images)\n",
    "        #print('done for encoder')\n",
    "        # mioght need to change type of features\n",
    "        outputs = self.decoderRNN(features, captions, lenghts)\n",
    "        #print('done for decoder')\n",
    "        return outputs\n",
    "\n",
    "    def caption_image(self, image, vocabulary, max_length=50):\n",
    "        result_caption = []\n",
    "\n",
    "        with torch.no_grad():\n",
    "            x = self.encoderCNN(image).unsqueeze(0)\n",
    "            states = None\n",
    "\n",
    "            for _ in range(max_length):\n",
    "                hiddens, states = self.decoderRNN.lstm(x, states)\n",
    "                output = self.decoderRNN.linear(hiddens.squeeze(0))\n",
    "                predicted = output.argmax(1)\n",
    "                result_caption.append(predicted.item())\n",
    "                x = self.decoderRNN.embed(predicted).unsqueeze(0)\n",
    "\n",
    "                if vocabulary[predicted.item()] == \"<end>\":\n",
    "                    break\n",
    "\n",
    "        return [vocabulary[idx] for idx in result_caption]\n",
    "    \n",
    "    def get_bs_pred(self, features, hidden=None):\n",
    "        ''' Helper Function for Beam Search'''\n",
    "        if(hidden != None):\n",
    "            features = self.embed(features).unsqueeze(1)\n",
    "        output, hidden = self.lstm(features, hidden)\n",
    "        output = self.linear(output.squeeze(1))\n",
    "        return output, hidden"
   ]
  },
  {
   "cell_type": "code",
   "execution_count": 8,
   "metadata": {
    "id": "--nPjpqPb010"
   },
   "outputs": [],
   "source": [
    "embed_size = 2\n",
    "hidden_size = 2\n",
    "vocab_size = 10\n",
    "layers = 1\n",
    "rcnn_local = RCNN(embed_size=embed_size,hidden_size=hidden_size, vocab_size=vocab_size, num_layers=layers)\n"
   ]
  },
  {
   "cell_type": "code",
   "execution_count": 17,
   "metadata": {},
   "outputs": [
    {
     "name": "stdout",
     "output_type": "stream",
     "text": [
      "Feature Shape: torch.Size([1, 25088])\n",
      "['hello', 'hello', 'hello', 'hello', 'hello', 'hello', 'hello', 'hello', 'hello', 'hello']\n"
     ]
    }
   ],
   "source": [
    "# x = torch.rand((1,3,224,224))\n",
    "# cap = torch.randn((32,10))\n",
    "# cap = torch.tensor([[0,1,0,0,0,0,0,0,0,0]])\n",
    "# # op = rcnn_local(x, cap.int(), [10])\n",
    "# # print(op.shape)\n",
    "# vocab = {0:'hi', 1:'hello', 2:'h',3:'g',4:'f',5:'e',6:'d',7:'c',8:'b',9:'a',10:'is'}\n",
    "# op2 = rcnn_local.caption_image(x, vocab, 10)\n",
    "# print(op2)"
   ]
  },
  {
   "cell_type": "code",
   "execution_count": null,
   "metadata": {},
   "outputs": [],
   "source": []
  },
  {
   "cell_type": "code",
   "execution_count": null,
   "metadata": {},
   "outputs": [],
   "source": []
  }
 ],
 "metadata": {
  "colab": {
   "name": "Untitled6.ipynb",
   "provenance": []
  },
  "kernelspec": {
   "display_name": "Python 3 (ipykernel)",
   "language": "python",
   "name": "python3"
  },
  "language_info": {
   "codemirror_mode": {
    "name": "ipython",
    "version": 3
   },
   "file_extension": ".py",
   "mimetype": "text/x-python",
   "name": "python",
   "nbconvert_exporter": "python",
   "pygments_lexer": "ipython3",
   "version": "3.8.8"
  },
  "widgets": {
   "application/vnd.jupyter.widget-state+json": {
    "1f10240e376943b8b6a1d4b87ec5a471": {
     "model_module": "@jupyter-widgets/base",
     "model_module_version": "1.2.0",
     "model_name": "LayoutModel",
     "state": {
      "_model_module": "@jupyter-widgets/base",
      "_model_module_version": "1.2.0",
      "_model_name": "LayoutModel",
      "_view_count": null,
      "_view_module": "@jupyter-widgets/base",
      "_view_module_version": "1.2.0",
      "_view_name": "LayoutView",
      "align_content": null,
      "align_items": null,
      "align_self": null,
      "border": null,
      "bottom": null,
      "display": null,
      "flex": null,
      "flex_flow": null,
      "grid_area": null,
      "grid_auto_columns": null,
      "grid_auto_flow": null,
      "grid_auto_rows": null,
      "grid_column": null,
      "grid_gap": null,
      "grid_row": null,
      "grid_template_areas": null,
      "grid_template_columns": null,
      "grid_template_rows": null,
      "height": null,
      "justify_content": null,
      "justify_items": null,
      "left": null,
      "margin": null,
      "max_height": null,
      "max_width": null,
      "min_height": null,
      "min_width": null,
      "object_fit": null,
      "object_position": null,
      "order": null,
      "overflow": null,
      "overflow_x": null,
      "overflow_y": null,
      "padding": null,
      "right": null,
      "top": null,
      "visibility": null,
      "width": null
     }
    },
    "2ac0de3faa1a45dd8b176fbe1f0014c2": {
     "model_module": "@jupyter-widgets/base",
     "model_module_version": "1.2.0",
     "model_name": "LayoutModel",
     "state": {
      "_model_module": "@jupyter-widgets/base",
      "_model_module_version": "1.2.0",
      "_model_name": "LayoutModel",
      "_view_count": null,
      "_view_module": "@jupyter-widgets/base",
      "_view_module_version": "1.2.0",
      "_view_name": "LayoutView",
      "align_content": null,
      "align_items": null,
      "align_self": null,
      "border": null,
      "bottom": null,
      "display": null,
      "flex": null,
      "flex_flow": null,
      "grid_area": null,
      "grid_auto_columns": null,
      "grid_auto_flow": null,
      "grid_auto_rows": null,
      "grid_column": null,
      "grid_gap": null,
      "grid_row": null,
      "grid_template_areas": null,
      "grid_template_columns": null,
      "grid_template_rows": null,
      "height": null,
      "justify_content": null,
      "justify_items": null,
      "left": null,
      "margin": null,
      "max_height": null,
      "max_width": null,
      "min_height": null,
      "min_width": null,
      "object_fit": null,
      "object_position": null,
      "order": null,
      "overflow": null,
      "overflow_x": null,
      "overflow_y": null,
      "padding": null,
      "right": null,
      "top": null,
      "visibility": null,
      "width": null
     }
    },
    "4063df1caa9e45689ada6a8ba0462c6c": {
     "model_module": "@jupyter-widgets/controls",
     "model_module_version": "1.5.0",
     "model_name": "DescriptionStyleModel",
     "state": {
      "_model_module": "@jupyter-widgets/controls",
      "_model_module_version": "1.5.0",
      "_model_name": "DescriptionStyleModel",
      "_view_count": null,
      "_view_module": "@jupyter-widgets/base",
      "_view_module_version": "1.2.0",
      "_view_name": "StyleView",
      "description_width": ""
     }
    },
    "57eea5042f394a18b9ff96854e8928b9": {
     "model_module": "@jupyter-widgets/controls",
     "model_module_version": "1.5.0",
     "model_name": "DescriptionStyleModel",
     "state": {
      "_model_module": "@jupyter-widgets/controls",
      "_model_module_version": "1.5.0",
      "_model_name": "DescriptionStyleModel",
      "_view_count": null,
      "_view_module": "@jupyter-widgets/base",
      "_view_module_version": "1.2.0",
      "_view_name": "StyleView",
      "description_width": ""
     }
    },
    "6e59c2cbfc6b4735a23094bc6339511f": {
     "model_module": "@jupyter-widgets/base",
     "model_module_version": "1.2.0",
     "model_name": "LayoutModel",
     "state": {
      "_model_module": "@jupyter-widgets/base",
      "_model_module_version": "1.2.0",
      "_model_name": "LayoutModel",
      "_view_count": null,
      "_view_module": "@jupyter-widgets/base",
      "_view_module_version": "1.2.0",
      "_view_name": "LayoutView",
      "align_content": null,
      "align_items": null,
      "align_self": null,
      "border": null,
      "bottom": null,
      "display": null,
      "flex": null,
      "flex_flow": null,
      "grid_area": null,
      "grid_auto_columns": null,
      "grid_auto_flow": null,
      "grid_auto_rows": null,
      "grid_column": null,
      "grid_gap": null,
      "grid_row": null,
      "grid_template_areas": null,
      "grid_template_columns": null,
      "grid_template_rows": null,
      "height": null,
      "justify_content": null,
      "justify_items": null,
      "left": null,
      "margin": null,
      "max_height": null,
      "max_width": null,
      "min_height": null,
      "min_width": null,
      "object_fit": null,
      "object_position": null,
      "order": null,
      "overflow": null,
      "overflow_x": null,
      "overflow_y": null,
      "padding": null,
      "right": null,
      "top": null,
      "visibility": null,
      "width": null
     }
    },
    "90392bbe0c4d43778247f075baf73b80": {
     "model_module": "@jupyter-widgets/controls",
     "model_module_version": "1.5.0",
     "model_name": "FloatProgressModel",
     "state": {
      "_dom_classes": [],
      "_model_module": "@jupyter-widgets/controls",
      "_model_module_version": "1.5.0",
      "_model_name": "FloatProgressModel",
      "_view_count": null,
      "_view_module": "@jupyter-widgets/controls",
      "_view_module_version": "1.5.0",
      "_view_name": "ProgressView",
      "bar_style": "success",
      "description": "",
      "description_tooltip": null,
      "layout": "IPY_MODEL_2ac0de3faa1a45dd8b176fbe1f0014c2",
      "max": 46830571,
      "min": 0,
      "orientation": "horizontal",
      "style": "IPY_MODEL_bf8748ef5e884c288d588b7f5df208d8",
      "value": 46830571
     }
    },
    "a15ce32e0bcc400d9966e0d6e48e9580": {
     "model_module": "@jupyter-widgets/controls",
     "model_module_version": "1.5.0",
     "model_name": "HTMLModel",
     "state": {
      "_dom_classes": [],
      "_model_module": "@jupyter-widgets/controls",
      "_model_module_version": "1.5.0",
      "_model_name": "HTMLModel",
      "_view_count": null,
      "_view_module": "@jupyter-widgets/controls",
      "_view_module_version": "1.5.0",
      "_view_name": "HTMLView",
      "description": "",
      "description_tooltip": null,
      "layout": "IPY_MODEL_a827d4f69c89424299d49799830bcd1d",
      "placeholder": "​",
      "style": "IPY_MODEL_4063df1caa9e45689ada6a8ba0462c6c",
      "value": " 44.7M/44.7M [00:00&lt;00:00, 66.7MB/s]"
     }
    },
    "a59f2f1d5b044b06a4b867ccb10fd939": {
     "model_module": "@jupyter-widgets/controls",
     "model_module_version": "1.5.0",
     "model_name": "HTMLModel",
     "state": {
      "_dom_classes": [],
      "_model_module": "@jupyter-widgets/controls",
      "_model_module_version": "1.5.0",
      "_model_name": "HTMLModel",
      "_view_count": null,
      "_view_module": "@jupyter-widgets/controls",
      "_view_module_version": "1.5.0",
      "_view_name": "HTMLView",
      "description": "",
      "description_tooltip": null,
      "layout": "IPY_MODEL_6e59c2cbfc6b4735a23094bc6339511f",
      "placeholder": "​",
      "style": "IPY_MODEL_57eea5042f394a18b9ff96854e8928b9",
      "value": "100%"
     }
    },
    "a827d4f69c89424299d49799830bcd1d": {
     "model_module": "@jupyter-widgets/base",
     "model_module_version": "1.2.0",
     "model_name": "LayoutModel",
     "state": {
      "_model_module": "@jupyter-widgets/base",
      "_model_module_version": "1.2.0",
      "_model_name": "LayoutModel",
      "_view_count": null,
      "_view_module": "@jupyter-widgets/base",
      "_view_module_version": "1.2.0",
      "_view_name": "LayoutView",
      "align_content": null,
      "align_items": null,
      "align_self": null,
      "border": null,
      "bottom": null,
      "display": null,
      "flex": null,
      "flex_flow": null,
      "grid_area": null,
      "grid_auto_columns": null,
      "grid_auto_flow": null,
      "grid_auto_rows": null,
      "grid_column": null,
      "grid_gap": null,
      "grid_row": null,
      "grid_template_areas": null,
      "grid_template_columns": null,
      "grid_template_rows": null,
      "height": null,
      "justify_content": null,
      "justify_items": null,
      "left": null,
      "margin": null,
      "max_height": null,
      "max_width": null,
      "min_height": null,
      "min_width": null,
      "object_fit": null,
      "object_position": null,
      "order": null,
      "overflow": null,
      "overflow_x": null,
      "overflow_y": null,
      "padding": null,
      "right": null,
      "top": null,
      "visibility": null,
      "width": null
     }
    },
    "bd9261979bf04310bd4ec9f70cc9b258": {
     "model_module": "@jupyter-widgets/controls",
     "model_module_version": "1.5.0",
     "model_name": "HBoxModel",
     "state": {
      "_dom_classes": [],
      "_model_module": "@jupyter-widgets/controls",
      "_model_module_version": "1.5.0",
      "_model_name": "HBoxModel",
      "_view_count": null,
      "_view_module": "@jupyter-widgets/controls",
      "_view_module_version": "1.5.0",
      "_view_name": "HBoxView",
      "box_style": "",
      "children": [
       "IPY_MODEL_a59f2f1d5b044b06a4b867ccb10fd939",
       "IPY_MODEL_90392bbe0c4d43778247f075baf73b80",
       "IPY_MODEL_a15ce32e0bcc400d9966e0d6e48e9580"
      ],
      "layout": "IPY_MODEL_1f10240e376943b8b6a1d4b87ec5a471"
     }
    },
    "bf8748ef5e884c288d588b7f5df208d8": {
     "model_module": "@jupyter-widgets/controls",
     "model_module_version": "1.5.0",
     "model_name": "ProgressStyleModel",
     "state": {
      "_model_module": "@jupyter-widgets/controls",
      "_model_module_version": "1.5.0",
      "_model_name": "ProgressStyleModel",
      "_view_count": null,
      "_view_module": "@jupyter-widgets/base",
      "_view_module_version": "1.2.0",
      "_view_name": "StyleView",
      "bar_color": null,
      "description_width": ""
     }
    }
   }
  }
 },
 "nbformat": 4,
 "nbformat_minor": 4
}
